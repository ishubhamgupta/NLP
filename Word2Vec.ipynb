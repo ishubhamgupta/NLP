{
 "cells": [
  {
   "cell_type": "markdown",
   "metadata": {},
   "source": [
    "**Problem**\n",
    "\n",
    "**Both BoW and TF-IDF approach semantic information is not stored. TF-IDF gives importance to uncommon words**\n",
    "\n",
    "\n",
    "**There is definetly chance of over fitting**"
   ]
  },
  {
   "cell_type": "markdown",
   "metadata": {},
   "source": [
    "**-------------------------------------------------------------------------------------------------------------------------**\n",
    "\n",
    "**Solution**\n",
    "\n",
    "**In this specific model, each word is basically represented as a vector of 32 or more dimension instead of a single number**\n",
    "\n",
    "**Here the semantic information and relation between different words is also preserved**"
   ]
  },
  {
   "cell_type": "code",
   "execution_count": 3,
   "metadata": {},
   "outputs": [],
   "source": [
    "from gensim.models import Word2Vec\n",
    "from nltk.corpus import stopwords\n",
    "import re"
   ]
  },
  {
   "cell_type": "code",
   "execution_count": 4,
   "metadata": {},
   "outputs": [],
   "source": [
    "para = \"A day after both Houses of Parliament were adjourned as the Opposition cornered the government to demand discussions on the rise in fuel prices, both Rajya Sabha and Lok Sabha will function as per usual timings, 11 am, from today.In Rajya Sabha, Union Minister Ravi Shankar Prasad will move The Arbitration and Conciliation (Amendment) Bill, 2021 and Agriculture Minister Narendra Singh Tomar will move The National Institutes of Food Technology, Entrepreneurship and Management Bill, 2019. Lok Sabha will see discussions on The National Capital Territory of Delhi Laws (Special Provisions) Second (Amendment) Bill, 2021 and The Constitution (Scheduled Castes) Order (Amendment) Bill, 2021. Meanwhile, the session is likely to be curtailed as members belonging to many parties will be busy with Assembly elections. In the Business Advisory Committee meeting, some leaders said that they would be busy with election campaign and therefore the budget session should be curtailed. According to sources, Lok Sabha Speaker Om Birla, who held one-on-one meetings with various leaders, said he would take sense of the house before arriving at a final decision.\""
   ]
  },
  {
   "cell_type": "code",
   "execution_count": 5,
   "metadata": {},
   "outputs": [
    {
     "name": "stdout",
     "output_type": "stream",
     "text": [
      "A day after both Houses of Parliament were adjourned as the Opposition cornered the government to demand discussions on the rise in fuel prices, both Rajya Sabha and Lok Sabha will function as per usual timings, 11 am, from today.In Rajya Sabha, Union Minister Ravi Shankar Prasad will move The Arbitration and Conciliation (Amendment) Bill, 2021 and Agriculture Minister Narendra Singh Tomar will move The National Institutes of Food Technology, Entrepreneurship and Management Bill, 2019. Lok Sabha will see discussions on The National Capital Territory of Delhi Laws (Special Provisions) Second (Amendment) Bill, 2021 and The Constitution (Scheduled Castes) Order (Amendment) Bill, 2021. Meanwhile, the session is likely to be curtailed as members belonging to many parties will be busy with Assembly elections. In the Business Advisory Committee meeting, some leaders said that they would be busy with election campaign and therefore the budget session should be curtailed. According to sources, Lok Sabha Speaker Om Birla, who held one-on-one meetings with various leaders, said he would take sense of the house before arriving at a final decision.\n"
     ]
    }
   ],
   "source": [
    "print(para)"
   ]
  },
  {
   "cell_type": "code",
   "execution_count": 6,
   "metadata": {},
   "outputs": [],
   "source": [
    "# Preprocessing the data\n",
    "\n",
    "text = re.sub(r'\\[[0-9]*\\]',' ', para)\n",
    "text = re.sub(r'\\s+', ' ', text) # Unwanted spaces\n",
    "text = text.lower()\n",
    "text = re.sub(r'\\d', ' ', text)\n",
    "text = re.sub(r'\\s+', ' ', text)"
   ]
  },
  {
   "cell_type": "code",
   "execution_count": 8,
   "metadata": {},
   "outputs": [],
   "source": [
    "# Preparing the dataset\n",
    "import nltk\n",
    "\n",
    "sentences = nltk.sent_tokenize(text) \n",
    "sentences = [nltk.word_tokenize(sentence) for sentence in sentences]\n",
    "\n",
    "for i in range(len(sentences)):\n",
    "    sentences[i] = [word for word in sentences[i] if word not in stopwords.words('english')]"
   ]
  },
  {
   "cell_type": "code",
   "execution_count": 13,
   "metadata": {},
   "outputs": [],
   "source": [
    "# Training the Word2Vec model\n",
    "\n",
    "model = Word2Vec(sentences, min_count=1) # Minimum count can be set as per one's requirement\n",
    "\n",
    "words = model.wv.vocab\n"
   ]
  },
  {
   "cell_type": "code",
   "execution_count": 14,
   "metadata": {},
   "outputs": [],
   "source": [
    "# Finding word Vectors\n",
    "\n",
    "vector = model.wv['delhi']"
   ]
  },
  {
   "cell_type": "code",
   "execution_count": 15,
   "metadata": {},
   "outputs": [
    {
     "data": {
      "text/plain": [
       "array([-1.9724013e-03, -4.4593969e-03, -3.2494303e-03, -1.5860043e-03,\n",
       "       -6.1325898e-04, -3.1458598e-03, -1.6795596e-03, -2.6698455e-03,\n",
       "        4.9238661e-03,  2.0987873e-03, -1.2175688e-03, -4.7746431e-03,\n",
       "       -4.2306324e-03,  3.2294677e-03, -3.7452444e-03, -4.1093123e-03,\n",
       "       -1.1712378e-03,  4.8528099e-03, -4.8336764e-03, -4.6285270e-03,\n",
       "        2.8467844e-03,  9.7129249e-04, -2.1830064e-03, -4.2773727e-03,\n",
       "        2.5981330e-04,  1.5244250e-03,  3.4087403e-03, -4.9865837e-03,\n",
       "       -2.2598123e-03, -4.7355928e-03,  1.5825236e-03,  2.5696906e-03,\n",
       "        3.2548003e-03, -2.2909574e-03,  4.9156817e-03,  2.7579938e-03,\n",
       "        1.1237370e-03, -3.3904200e-03,  3.2318523e-03, -2.1989383e-03,\n",
       "        4.0292935e-03, -8.2939659e-04, -4.5725745e-03,  2.0925160e-03,\n",
       "        8.4708066e-04,  8.6271891e-04, -3.4291870e-03,  3.5460404e-04,\n",
       "       -3.1655997e-03,  3.7539275e-03, -4.1025160e-03,  6.2151410e-04,\n",
       "       -3.5036707e-03,  5.9578109e-05, -1.1263393e-03,  3.0431824e-03,\n",
       "        2.0512640e-04,  4.8999079e-03,  1.6383667e-03, -2.8122540e-03,\n",
       "       -1.6459002e-03, -3.9133728e-03, -2.0203639e-03, -4.3500905e-04,\n",
       "       -4.4528083e-03,  1.1684939e-03, -9.8636409e-04, -3.2415630e-03,\n",
       "        4.3617417e-03,  1.8280186e-03, -1.8376150e-03,  2.5837168e-03,\n",
       "        6.8066281e-04, -3.4987654e-03, -2.9601366e-03,  2.5590870e-03,\n",
       "        2.6779408e-03,  1.9628028e-04, -1.9332910e-03, -1.9455410e-03,\n",
       "       -1.2655974e-03, -3.1141259e-03, -2.6664955e-03,  3.7065428e-03,\n",
       "       -1.1892989e-03, -3.5775578e-05,  3.4816103e-04, -2.8722207e-03,\n",
       "       -3.9134389e-03, -4.5861740e-05, -4.9950820e-03,  1.7364925e-03,\n",
       "       -3.1677505e-03, -1.6103945e-03, -5.1474164e-04, -2.4667140e-03,\n",
       "        2.4483704e-03, -2.2834107e-04,  1.5391407e-03, -4.8866761e-03],\n",
       "      dtype=float32)"
      ]
     },
     "execution_count": 15,
     "metadata": {},
     "output_type": "execute_result"
    }
   ],
   "source": [
    "vector"
   ]
  },
  {
   "cell_type": "code",
   "execution_count": 17,
   "metadata": {},
   "outputs": [],
   "source": [
    "# Most similar words\n",
    "\n",
    "similar = model.wv.most_similar('budget')"
   ]
  },
  {
   "cell_type": "code",
   "execution_count": 18,
   "metadata": {},
   "outputs": [
    {
     "data": {
      "text/plain": [
       "[('singh', 0.257900208234787),\n",
       " ('amendment', 0.22323846817016602),\n",
       " ('various', 0.21642187237739563),\n",
       " ('constitution', 0.1842552274465561),\n",
       " ('speaker', 0.17176631093025208),\n",
       " ('ravi', 0.16898289322853088),\n",
       " ('curtailed', 0.166897714138031),\n",
       " ('sense', 0.16577284038066864),\n",
       " ('prices', 0.14969651401042938),\n",
       " ('would', 0.14270812273025513)]"
      ]
     },
     "execution_count": 18,
     "metadata": {},
     "output_type": "execute_result"
    }
   ],
   "source": [
    "similar"
   ]
  },
  {
   "cell_type": "code",
   "execution_count": null,
   "metadata": {},
   "outputs": [],
   "source": []
  }
 ],
 "metadata": {
  "kernelspec": {
   "display_name": "Python 3",
   "language": "python",
   "name": "python3"
  },
  "language_info": {
   "codemirror_mode": {
    "name": "ipython",
    "version": 3
   },
   "file_extension": ".py",
   "mimetype": "text/x-python",
   "name": "python",
   "nbconvert_exporter": "python",
   "pygments_lexer": "ipython3",
   "version": "3.6.10"
  }
 },
 "nbformat": 4,
 "nbformat_minor": 4
}
